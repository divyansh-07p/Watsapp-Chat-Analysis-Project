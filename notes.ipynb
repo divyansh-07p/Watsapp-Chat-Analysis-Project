{
 "cells": [
  {
   "cell_type": "code",
   "execution_count": 1,
   "metadata": {},
   "outputs": [
    {
     "data": {
      "text/plain": [
       "'function             \\tSize\\tUse Case\\nst.title(\"Main Title\")\\t    Largest\\tUsed for the app\\'s main heading\\nst.header(\"Section Header\")\\tLarge\\tUsed for section headings\\nst.subheader(\"Subsection\")\\tMedium\\tUsed for subsections\\nst.write(\"Normal Text\")\\t    Small\\tUsed for normal text or paragraphs\\n'"
      ]
     },
     "execution_count": 1,
     "metadata": {},
     "output_type": "execute_result"
    }
   ],
   "source": [
    "\n",
    "'''bytes_data = uploaded_file.getvalue()\n",
    "\n",
    "This retrieves the contents of the uploaded file in bytes format.\n",
    "The getvalue() method reads the entire file as a sequence of bytes.\n",
    "This is useful when working with non-text files like images, PDFs, or binary data.\n",
    "If a user uploads a text file (.txt), bytes_data will contain the file’s contents as raw bytes. You can then convert it to a string like this:\n",
    "text_data = bytes_data.decode(\"utf-8\")\n",
    "st.write(text_data)  # Display the text content\n",
    "'''\n",
    "\n",
    "'''function             \tSize\tUse Case\n",
    "st.title(\"Main Title\")\t    Largest\tUsed for the app's main heading\n",
    "st.header(\"Section Header\")\tLarge\tUsed for section headings\n",
    "st.subheader(\"Subsection\")\tMedium\tUsed for subsections\n",
    "st.write(\"Normal Text\")\t    Small\tUsed for normal text or paragraphs\n",
    "'''"
   ]
  },
  {
   "cell_type": "code",
   "execution_count": null,
   "metadata": {},
   "outputs": [],
   "source": [
    "''' .gitignore'''"
   ]
  }
 ],
 "metadata": {
  "kernelspec": {
   "display_name": "Python 3",
   "language": "python",
   "name": "python3"
  },
  "language_info": {
   "codemirror_mode": {
    "name": "ipython",
    "version": 3
   },
   "file_extension": ".py",
   "mimetype": "text/x-python",
   "name": "python",
   "nbconvert_exporter": "python",
   "pygments_lexer": "ipython3",
   "version": "3.12.0"
  }
 },
 "nbformat": 4,
 "nbformat_minor": 2
}
